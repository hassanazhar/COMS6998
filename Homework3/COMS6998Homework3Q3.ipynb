{
  "nbformat": 4,
  "nbformat_minor": 0,
  "metadata": {
    "colab": {
      "provenance": [],
      "gpuType": "A100"
    },
    "kernelspec": {
      "name": "python3",
      "display_name": "Python 3"
    },
    "language_info": {
      "name": "python"
    },
    "accelerator": "GPU"
  },
  "cells": [
    {
      "cell_type": "code",
      "execution_count": 9,
      "metadata": {
        "colab": {
          "base_uri": "https://localhost:8080/"
        },
        "id": "WpYdSMeNHRTc",
        "outputId": "2fd35c4c-7c1e-45d2-bfb2-0ec0be20028f"
      },
      "outputs": [
        {
          "output_type": "stream",
          "name": "stdout",
          "text": [
            "Selected Question: Carolyn works for a delivery service company that hires on a contract basis. In May, they hired 40 employees, paying each employee $15 per hour for a 40-hour workweek. In June, 1/4 of the employees' contracts expired. Calculate the total amount of money the company paid to the employees in the two months.\n"
          ]
        }
      ],
      "source": [
        "from datasets import load_dataset\n",
        "import random\n",
        "\n",
        "dataset = load_dataset(\"gsm8k\", \"main\", split=\"test\")\n",
        "\n",
        "problem = random.choice(dataset)[\"question\"]\n",
        "print(\"Selected Question:\", problem)\n"
      ]
    },
    {
      "cell_type": "code",
      "source": [
        "\n",
        "import yaml\n",
        "\n",
        "yaml_content = \"\"\"\n",
        "prompts:\n",
        "  - name: generic_solution\n",
        "    template: |\n",
        "      Solve the following math problem carefully and answer with a number:\n",
        "      {problem}\n",
        "\n",
        "  - name: one_shot_prompt\n",
        "    template: |\n",
        "      Solve this math problem with a numerical answer:\n",
        "      Example: {example_1}\n",
        "      Problem: {problem}\n",
        "      Answer as a number:\n",
        "\n",
        "  - name: two_shot_prompt\n",
        "    template: |\n",
        "      Solve the following problem and answer as a number:\n",
        "      Example 1: {example_1}\n",
        "      Example 2: {example_2}\n",
        "      Problem: {problem}\n",
        "      Answer as a number:\n",
        "\n",
        "  - name: two_shot_cot_prompt\n",
        "    template: |\n",
        "      Use a step-by-step approach to solve this problem and provide a final answer as a number:\n",
        "      Example 1: {cot_example_1}\n",
        "      Example 2: {cot_example_2}\n",
        "      Problem: {problem}\n",
        "      Answer:\n",
        "\"\"\"\n",
        "\n",
        "with open(\"prompts.yaml\", \"w\") as file:\n",
        "    file.write(yaml_content)\n"
      ],
      "metadata": {
        "id": "-mx_HVjPIWeB"
      },
      "execution_count": 10,
      "outputs": []
    },
    {
      "cell_type": "code",
      "source": [
        "# Load YAML file\n",
        "with open(\"prompts.yaml\", \"r\") as file:\n",
        "    prompt_templates = yaml.safe_load(file)[\"prompts\"]\n",
        "\n",
        "# Function to retrieve a prompt template by name and populate placeholders\n",
        "def get_prompt(name, **kwargs):\n",
        "    for prompt in prompt_templates:\n",
        "        if prompt[\"name\"] == name:\n",
        "            return prompt[\"template\"].format(**kwargs)\n",
        "    raise ValueError(f\"No prompt found with the name '{name}'\")"
      ],
      "metadata": {
        "id": "P6Yc4D8HIgqD"
      },
      "execution_count": 11,
      "outputs": []
    },
    {
      "cell_type": "code",
      "source": [
        "# Define example solutions for one-shot and two-shot prompts\n",
        "example_1 = \"A box has 5 apples, another box has 15 apples. Difference is 10, twice the oranges count. So, 5 oranges.\"\n",
        "example_2 = \"One pond has 6 frogs, another 18. Difference is 12, twice the turtles count. So, 6 turtles.\"\n",
        "cot_example_1 = \"To solve 10 + 10, first add the numbers to get 20.\"\n",
        "cot_example_2 = \"To solve 20 - 5, first subtract to get 15.\"\n",
        "\n",
        "# Generate prompts\n",
        "generic_prompt = get_prompt(\"generic_solution\", problem=problem)\n",
        "one_shot_prompt = get_prompt(\"one_shot_prompt\", example_1=example_1, problem=problem)\n",
        "two_shot_prompt = get_prompt(\"two_shot_prompt\", example_1=example_1, example_2=example_2, problem=problem)\n",
        "two_shot_cot_prompt = get_prompt(\"two_shot_cot_prompt\", cot_example_1=cot_example_1, cot_example_2=cot_example_2, problem=problem)\n",
        "\n",
        "# Display generated prompts\n",
        "print(\"Generic Solution Prompt:\\n\", generic_prompt)\n",
        "print(\"\\nOne Shot Prompt:\\n\", one_shot_prompt)\n",
        "print(\"\\nTwo Shot Prompt:\\n\", two_shot_prompt)\n",
        "print(\"\\nTwo Shot CoT Prompt:\\n\", two_shot_cot_prompt)\n"
      ],
      "metadata": {
        "colab": {
          "base_uri": "https://localhost:8080/"
        },
        "id": "zVpQPDRvHfdr",
        "outputId": "25eb0a4f-00c3-4a3e-91ae-215f2c13c831"
      },
      "execution_count": 12,
      "outputs": [
        {
          "output_type": "stream",
          "name": "stdout",
          "text": [
            "Generic Solution Prompt:\n",
            " Solve the following math problem carefully and answer with a number:\n",
            "Carolyn works for a delivery service company that hires on a contract basis. In May, they hired 40 employees, paying each employee $15 per hour for a 40-hour workweek. In June, 1/4 of the employees' contracts expired. Calculate the total amount of money the company paid to the employees in the two months.\n",
            "\n",
            "\n",
            "One Shot Prompt:\n",
            " Solve this math problem with a numerical answer:\n",
            "Example: A box has 5 apples, another box has 15 apples. Difference is 10, twice the oranges count. So, 5 oranges.\n",
            "Problem: Carolyn works for a delivery service company that hires on a contract basis. In May, they hired 40 employees, paying each employee $15 per hour for a 40-hour workweek. In June, 1/4 of the employees' contracts expired. Calculate the total amount of money the company paid to the employees in the two months.\n",
            "Answer as a number:\n",
            "\n",
            "\n",
            "Two Shot Prompt:\n",
            " Solve the following problem and answer as a number:\n",
            "Example 1: A box has 5 apples, another box has 15 apples. Difference is 10, twice the oranges count. So, 5 oranges.\n",
            "Example 2: One pond has 6 frogs, another 18. Difference is 12, twice the turtles count. So, 6 turtles.\n",
            "Problem: Carolyn works for a delivery service company that hires on a contract basis. In May, they hired 40 employees, paying each employee $15 per hour for a 40-hour workweek. In June, 1/4 of the employees' contracts expired. Calculate the total amount of money the company paid to the employees in the two months.\n",
            "Answer as a number:\n",
            "\n",
            "\n",
            "Two Shot CoT Prompt:\n",
            " Use a step-by-step approach to solve this problem and provide a final answer as a number:\n",
            "Example 1: To solve 10 + 10, first add the numbers to get 20.\n",
            "Example 2: To solve 20 - 5, first subtract to get 15.\n",
            "Problem: Carolyn works for a delivery service company that hires on a contract basis. In May, they hired 40 employees, paying each employee $15 per hour for a 40-hour workweek. In June, 1/4 of the employees' contracts expired. Calculate the total amount of money the company paid to the employees in the two months.\n",
            "Answer:\n",
            "\n"
          ]
        }
      ]
    },
    {
      "cell_type": "code",
      "source": [
        "from transformers import AutoTokenizer, AutoModelForSeq2SeqLM, pipeline\n",
        "import torch\n",
        "\n",
        "# Load Flan-T5 model\n",
        "model_name = \"google/flan-t5-large\"\n",
        "\n",
        "tokenizer = AutoTokenizer.from_pretrained(model_name)\n",
        "model = AutoModelForSeq2SeqLM.from_pretrained(model_name)\n",
        "device = 0 if torch.cuda.is_available() else -1\n",
        "# Set up the pipeline with Flan-T5 for text generation\n",
        "nlp = pipeline(\"text2text-generation\", model=model, tokenizer=tokenizer, device=device)\n",
        "\n",
        "def generate_solution(prompt):\n",
        "    # Adjusting max_new_tokens for Flan-T5, which is better at handling structured prompts\n",
        "    return nlp(prompt, max_new_tokens=100, num_return_sequences=1)[0][\"generated_text\"]\n",
        "\n",
        "# Get responses\n",
        "print(\"\\nResponse for Generic Prompt:\\n\", generate_solution(generic_prompt))\n",
        "print(\"\\nResponse for One Shot Prompt:\\n\", generate_solution(one_shot_prompt))\n",
        "print(\"\\nResponse for Two Shot Prompt:\\n\", generate_solution(two_shot_prompt))\n",
        "print(\"\\nResponse for Two Shot CoT Prompt:\\n\", generate_solution(two_shot_cot_prompt))\n"
      ],
      "metadata": {
        "colab": {
          "base_uri": "https://localhost:8080/"
        },
        "id": "gW_rK4R5Itw1",
        "outputId": "e043a43a-eb5e-473f-dbed-7ed83e18c70c"
      },
      "execution_count": 13,
      "outputs": [
        {
          "output_type": "stream",
          "name": "stdout",
          "text": [
            "\n",
            "Response for Generic Prompt:\n",
            " 40 * 15 = $1200.\n",
            "\n",
            "Response for One Shot Prompt:\n",
            " 40 * 15 = $1200\n",
            "\n",
            "Response for Two Shot Prompt:\n",
            " In May, the company paid 40 * $15 = $1200 to the 40 employees. In June, they paid 1 / 4 * 40 = $20 to the 40 employees. In total, the company paid $1200 + $20 = $1400 to the employees.\n",
            "\n",
            "Response for Two Shot CoT Prompt:\n",
            " In May, the company paid 40 * $15 = $1200 per employee. In June, they paid 1 / 4 * 40 = $20 per employee. In total, the company paid $1200 + $20 = $1400 per month. The final answer: 1400.\n"
          ]
        }
      ]
    },
    {
      "cell_type": "code",
      "source": [
        "from transformers import AutoTokenizer, AutoModelForCausalLM, pipeline\n",
        "\n",
        "model_name = \"EleutherAI/gpt-neo-1.3B\"\n",
        "tokenizer = AutoTokenizer.from_pretrained(model_name)\n",
        "model = AutoModelForCausalLM.from_pretrained(model_name)\n",
        "\n",
        "nlp = pipeline(\"text-generation\", model=model, tokenizer=tokenizer, device=device)\n",
        "\n",
        "def generate_solution(prompt):\n",
        "    return nlp(prompt, max_new_tokens=100, num_return_sequences=1)[0][\"generated_text\"]\n",
        "\n",
        "# Get responses\n",
        "print(\"\\nResponse for Generic Prompt:\\n\", generate_solution(generic_prompt))\n",
        "print(\"\\nResponse for One Shot Prompt:\\n\", generate_solution(one_shot_prompt))\n",
        "print(\"\\nResponse for Two Shot Prompt:\\n\", generate_solution(two_shot_prompt))\n",
        "print(\"\\nResponse for Two Shot CoT Prompt:\\n\", generate_solution(two_shot_cot_prompt))\n",
        "\n"
      ],
      "metadata": {
        "colab": {
          "base_uri": "https://localhost:8080/"
        },
        "id": "-W_j8MaeSXTb",
        "outputId": "37ae4f14-d2a0-4006-bee3-61e171eda311"
      },
      "execution_count": 14,
      "outputs": [
        {
          "output_type": "stream",
          "name": "stderr",
          "text": [
            "Setting `pad_token_id` to `eos_token_id`:None for open-end generation.\n",
            "Setting `pad_token_id` to `eos_token_id`:None for open-end generation.\n"
          ]
        },
        {
          "output_type": "stream",
          "name": "stdout",
          "text": [
            "\n",
            "Response for Generic Prompt:\n",
            " Solve the following math problem carefully and answer with a number:\n",
            "Carolyn works for a delivery service company that hires on a contract basis. In May, they hired 40 employees, paying each employee $15 per hour for a 40-hour workweek. In June, 1/4 of the employees' contracts expired. Calculate the total amount of money the company paid to the employees in the two months.\n",
            "I used the formula: \n",
            "$M=\\frac{N+G}{2} \\times 40\\sqrt{3}+(C-N)S \\times 40 \\left(\\frac{3+1.1^{3/4}}  {2+1.1^{3/4}}\\right)S^{3/4}+S \\times 40 (C-N)^{3/4}S^{3/4}$\n",
            "In the two months\n"
          ]
        },
        {
          "output_type": "stream",
          "name": "stderr",
          "text": [
            "Setting `pad_token_id` to `eos_token_id`:None for open-end generation.\n"
          ]
        },
        {
          "output_type": "stream",
          "name": "stdout",
          "text": [
            "\n",
            "Response for One Shot Prompt:\n",
            " Solve this math problem with a numerical answer:\n",
            "Example: A box has 5 apples, another box has 15 apples. Difference is 10, twice the oranges count. So, 5 oranges.\n",
            "Problem: Carolyn works for a delivery service company that hires on a contract basis. In May, they hired 40 employees, paying each employee $15 per hour for a 40-hour workweek. In June, 1/4 of the employees' contracts expired. Calculate the total amount of money the company paid to the employees in the two months.\n",
            "Answer as a number:\n",
            "Let the first employee work in May, so he's paid $15 each hour. Let $5 of that be for the 20 hours worked by the first employee. $15 * 20 = $300. Let the total amount paid to the second employee be $150. Now the total amount paid to the first employee is $450, but the total amount paid to the second employee is $150.\n",
            "Calculate the total amount of money the company paid to the 40 employees. That's $\n"
          ]
        },
        {
          "output_type": "stream",
          "name": "stderr",
          "text": [
            "Setting `pad_token_id` to `eos_token_id`:None for open-end generation.\n"
          ]
        },
        {
          "output_type": "stream",
          "name": "stdout",
          "text": [
            "\n",
            "Response for Two Shot Prompt:\n",
            " Solve the following problem and answer as a number:\n",
            "Example 1: A box has 5 apples, another box has 15 apples. Difference is 10, twice the oranges count. So, 5 oranges.\n",
            "Example 2: One pond has 6 frogs, another 18. Difference is 12, twice the turtles count. So, 6 turtles.\n",
            "Problem: Carolyn works for a delivery service company that hires on a contract basis. In May, they hired 40 employees, paying each employee $15 per hour for a 40-hour workweek. In June, 1/4 of the employees' contracts expired. Calculate the total amount of money the company paid to the employees in the two months.\n",
            "Answer as a number:\n",
            "Let's use the formula given for a one-month contract (6 weeks x 12 hours per week).\n",
            "So, the number of employees should now be\n",
            "The amount of money the company paid to the 40 employees is half the total.\n",
            "In the two months they worked, the company paid $5,200 (40 hours x 40 employees) to the employees.\n",
            "Solution: Let's work with a $5,200 annual salary on the employees, and let's divide the total by the\n",
            "\n",
            "Response for Two Shot CoT Prompt:\n",
            " Use a step-by-step approach to solve this problem and provide a final answer as a number:\n",
            "Example 1: To solve 10 + 10, first add the numbers to get 20.\n",
            "Example 2: To solve 20 - 5, first subtract to get 15.\n",
            "Problem: Carolyn works for a delivery service company that hires on a contract basis. In May, they hired 40 employees, paying each employee $15 per hour for a 40-hour workweek. In June, 1/4 of the employees' contracts expired. Calculate the total amount of money the company paid to the employees in the two months.\n",
            "Answer:\n",
            "a) $15\n",
            "b) $40\n",
            "c) $75\n",
            "d) $110\n",
            "e) $165\n",
            "\n",
            "Solution:\n",
            "a) subtract the $15 and answer \"a)\"\n",
            "b) subtract the $40 and answer \"b)\"\n",
            "c) subtract the $75 and answer \"c)\"\n",
            "d) add the $110 and answer \"d)\"\n",
            "e) add the $165 and answer \"e)\"\n",
            "\n",
            "A:\n",
            "\n",
            "Solved\n",
            "\n",
            "The answer\n"
          ]
        }
      ]
    },
    {
      "cell_type": "markdown",
      "source": [
        "I used 2 LLM's to solve a GSM8K math problem using various prompt engineering strategies, and followed good prompt design by using Yaml and injecting responses. I compared EleutherAI's GPT-Neo with Google’s Flan-T5 models. My approaches included generic, one-shot, two-shot, and two-shot Chain-of-Thought (CoT) prompts. Flan-T5 outperformed GPT-Neo, particularly with structured prompts, where it generated logical and numerically accurate responses. Two-shot CoT prompting proved most effective, due to step-by-step reasoning, crucial for solving problems with constraints. GPT-Neo struggled with numerical coherence and often returned verbose, less structured answers. Observations indicate that well-designed CoT prompts combined with high-capacity models like Flan-T5 can improve performance, which supports CoT with LLM's. Hallucination is a real problem as seen with both model's calculations, which shows having larger more complex models is necessary for inference tasks on such problems."
      ],
      "metadata": {
        "id": "df76ry6EgSou"
      }
    }
  ]
}