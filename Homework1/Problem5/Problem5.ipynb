{
 "cells": [
  {
   "cell_type": "markdown",
   "metadata": {},
   "source": [
    "### Problem 5 - Staleness\n",
    "\n",
    "1. **Gradient \\( g[L1, 1] \\)**:\n",
    "   - No gradients from Learner 2.\n",
    "   - **Staleness**: \\( 0 \\)\n",
    "\n",
    "2. **Gradient \\( g[L1, 2] \\)**:\n",
    "   - No gradients from Learner 2.\n",
    "   - **Staleness**: \\( 0 \\)\n",
    "\n",
    "3. **Gradient \\( g[L1, 3] \\)**:\n",
    "   - Learner 2 has calculated \\( g[L2, 1] \\).\n",
    "   - **Staleness**: \\( 1 \\)\n",
    "\n",
    "4. **Gradient \\( g[L1, 4] \\)**:\n",
    "   - Learner 2 has computed \\( g[L2, 1] \\).\n",
    "   - **Staleness**: \\( 1 \\)\n",
    "\n",
    "5. **Gradient \\( g[L2, 1] \\)**:\n",
    "   - Learner 2 sends \\( g[L2, 1] \\) at second 2.5. Learner 1 has computed g[L1, 1] and g[L1, 2], which both updated the weights.\n",
    "   - **Staleness**: \\( 2 \\)\n",
    "\n",
    "6. **Gradient \\( g[L2, 2] \\)**:\n",
    "   - Learner 2 sends g[L2, 2] at second 5. Learner 1 has sent g[L1, 3] and g[L1, 4], which updated the weights.\n",
    "   - **Staleness**: \\( 2 \\)\n",
    "\n",
    "---\n",
    "\n",
    "### Answer:\n",
    "\n",
    "- \\( g[L1, 1] \\): 0 updates\n",
    "- \\( g[L1, 2] \\): 0 updates\n",
    "- \\( g[L1, 3] \\): 1 update\n",
    "- \\( g[L1, 4] \\): 1 update\n",
    "- \\( g[L2, 1] \\): 2 updates\n",
    "- \\( g[L2, 2] \\): 2 updates"
   ]
  },
  {
   "cell_type": "markdown",
   "metadata": {},
   "source": []
  }
 ],
 "metadata": {
  "kernelspec": {
   "display_name": "COMS6998",
   "language": "python",
   "name": "python3"
  },
  "language_info": {
   "codemirror_mode": {
    "name": "ipython",
    "version": 3
   },
   "file_extension": ".py",
   "mimetype": "text/x-python",
   "name": "python",
   "nbconvert_exporter": "python",
   "pygments_lexer": "ipython3",
   "version": "3.9.19"
  }
 },
 "nbformat": 4,
 "nbformat_minor": 2
}
